{
  "nbformat": 4,
  "nbformat_minor": 0,
  "metadata": {
    "colab": {
      "provenance": [],
      "authorship_tag": "ABX9TyONrWwDaMLTIKsrrDs3BvVQ",
      "include_colab_link": true
    },
    "kernelspec": {
      "name": "python3",
      "display_name": "Python 3"
    },
    "language_info": {
      "name": "python"
    }
  },
  "cells": [
    {
      "cell_type": "markdown",
      "metadata": {
        "id": "view-in-github",
        "colab_type": "text"
      },
      "source": [
        "<a href=\"https://colab.research.google.com/github/Aleks1964/Python_Homework/blob/Homework_10/Homework_10_Task_44.ipynb\" target=\"_parent\"><img src=\"https://colab.research.google.com/assets/colab-badge.svg\" alt=\"Open In Colab\"/></a>"
      ]
    },
    {
      "cell_type": "markdown",
      "source": [
        "### **Задание 44**\n",
        "### В ячейке ниже представлен код генерирующий DataFrame, который состоит всего из 1 столбца.\n",
        "### Ваша задача перевести его в one hot вид.\n",
        "### Сможете ли вы это сделать без get_dummies?"
      ],
      "metadata": {
        "id": "_2XfCuTgFcK5"
      }
    },
    {
      "cell_type": "code",
      "source": [
        "import pandas as pd\n",
        "import random"
      ],
      "metadata": {
        "id": "oGnfe5FvFdSa"
      },
      "execution_count": null,
      "outputs": []
    },
    {
      "cell_type": "code",
      "source": [
        "lst = ['robot'] * 10\n",
        "lst += ['human'] * 10\n",
        "random.shuffle(lst)\n",
        "data = pd.DataFrame({'whoAmI': lst})\n",
        "data.head()\n",
        "print(data)"
      ],
      "metadata": {
        "colab": {
          "base_uri": "https://localhost:8080/"
        },
        "id": "ekWP-4h8E_fr",
        "outputId": "495df228-47d2-4b19-d002-b7014207d0e6"
      },
      "execution_count": 9,
      "outputs": [
        {
          "output_type": "stream",
          "name": "stdout",
          "text": [
            "   whoAmI\n",
            "0   robot\n",
            "1   human\n",
            "2   robot\n",
            "3   human\n",
            "4   robot\n",
            "5   human\n",
            "6   robot\n",
            "7   robot\n",
            "8   human\n",
            "9   human\n",
            "10  robot\n",
            "11  human\n",
            "12  human\n",
            "13  human\n",
            "14  robot\n",
            "15  robot\n",
            "16  robot\n",
            "17  robot\n",
            "18  human\n",
            "19  human\n"
          ]
        }
      ]
    },
    {
      "cell_type": "markdown",
      "source": [
        "**Первый вариант** - через циклы, раз нельзяиспользовать метод get_dummies:"
      ],
      "metadata": {
        "id": "3ioSFmFzFWoo"
      }
    },
    {
      "cell_type": "code",
      "source": [
        "one_hot_dict = {}\n",
        "for unique_value in unique_values:\n",
        "    one_hot_dict[unique_value] = []\n",
        "    for value in data['whoAmI']:\n",
        "        if value == unique_value:\n",
        "            one_hot_dict[unique_value].append(1)\n",
        "        else:\n",
        "            one_hot_dict[unique_value].append(0)\n",
        "\n",
        "one_hot_matrix = pd.DataFrame(one_hot_dict)\n",
        "print(one_hot_matrix)"
      ],
      "metadata": {
        "colab": {
          "base_uri": "https://localhost:8080/"
        },
        "id": "8gvXvWDNE9KP",
        "outputId": "24fc8c06-eabc-4c20-f2ea-6c41abb41b16"
      },
      "execution_count": 10,
      "outputs": [
        {
          "output_type": "stream",
          "name": "stdout",
          "text": [
            "    robot  human\n",
            "0       1      0\n",
            "1       0      1\n",
            "2       1      0\n",
            "3       0      1\n",
            "4       1      0\n",
            "5       0      1\n",
            "6       1      0\n",
            "7       1      0\n",
            "8       0      1\n",
            "9       0      1\n",
            "10      1      0\n",
            "11      0      1\n",
            "12      0      1\n",
            "13      0      1\n",
            "14      1      0\n",
            "15      1      0\n",
            "16      1      0\n",
            "17      1      0\n",
            "18      0      1\n",
            "19      0      1\n"
          ]
        }
      ]
    },
    {
      "cell_type": "markdown",
      "source": [
        "**Второй вариант** - сворачиваем циклы в генератор списка:"
      ],
      "metadata": {
        "id": "R4P021hRGZWm"
      }
    },
    {
      "cell_type": "code",
      "source": [
        "one_hot_matrix = [[1 if value == unique_value else 0 for unique_value in unique_values] for value in data['whoAmI']]\n",
        "one_hot_data = pd.DataFrame(one_hot_matrix, columns=unique_values)\n",
        "print(one_hot_data.head(len(lst)))"
      ],
      "metadata": {
        "colab": {
          "base_uri": "https://localhost:8080/"
        },
        "id": "rWK2u9Tz_Qg5",
        "outputId": "2eccbbb3-f072-4f17-9d30-979c542d6029"
      },
      "execution_count": 11,
      "outputs": [
        {
          "output_type": "stream",
          "name": "stdout",
          "text": [
            "    robot  human\n",
            "0       1      0\n",
            "1       0      1\n",
            "2       1      0\n",
            "3       0      1\n",
            "4       1      0\n",
            "5       0      1\n",
            "6       1      0\n",
            "7       1      0\n",
            "8       0      1\n",
            "9       0      1\n",
            "10      1      0\n",
            "11      0      1\n",
            "12      0      1\n",
            "13      0      1\n",
            "14      1      0\n",
            "15      1      0\n",
            "16      1      0\n",
            "17      1      0\n",
            "18      0      1\n",
            "19      0      1\n"
          ]
        }
      ]
    }
  ]
}